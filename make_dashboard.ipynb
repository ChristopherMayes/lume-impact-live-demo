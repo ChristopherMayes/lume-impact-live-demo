{
 "cells": [
  {
   "cell_type": "markdown",
   "id": "located-veteran",
   "metadata": {},
   "source": [
    "# Dashboard creation routines"
   ]
  },
  {
   "cell_type": "code",
   "execution_count": 8,
   "id": "neither-causing",
   "metadata": {},
   "outputs": [],
   "source": [
    "from impact import Impact\n",
    "import os\n",
    "import json\n",
    "import numpy as np\n",
    "\n",
    "from pathlib import Path\n",
    "\n",
    "import matplotlib as mpl\n",
    "mpl.use('Agg')\n",
    "import matplotlib.pyplot as plt"
   ]
  },
  {
   "cell_type": "code",
   "execution_count": 9,
   "id": "sonic-novel",
   "metadata": {},
   "outputs": [],
   "source": [
    "PREFIX = 'cu-inj-live-impact'"
   ]
  },
  {
   "cell_type": "code",
   "execution_count": 10,
   "id": "assured-mounting",
   "metadata": {},
   "outputs": [],
   "source": [
    "from PIL import Image, ImageOps\n",
    "\n",
    "def fig2data ( fig ):\n",
    "    \"\"\"\n",
    "    @brief Convert a Matplotlib figure to a 4D numpy array with RGBA channels and return it\n",
    "    @param fig a matplotlib figure\n",
    "    @return a numpy 3D array of RGBA values\n",
    "    \"\"\"\n",
    "    # draw the renderer\n",
    "    fig.canvas.draw ( )\n",
    "    # Get the RGBA buffer from the figure\n",
    "    w,h = fig.canvas.get_width_height()\n",
    "    buf = np.frombuffer ( fig.canvas.tostring_argb(), dtype=np.uint8 )\n",
    "    buf.shape = ( w, h,4 )\n",
    "    # canvas.tostring_argb give pixmap in ARGB mode. Roll the ALPHA channel to have it in RGBA mode\n",
    "    buf = np.roll ( buf, 3, axis = 2 )\n",
    "    return buf\n",
    "\n",
    "def fig2img ( fig ):\n",
    "    \"\"\"\n",
    "    @brief Convert a Matplotlib figure to a PIL Image in RGBA format and return it\n",
    "    @param fig a matplotlib figure\n",
    "    @return a Python Imaging Library ( PIL ) image\n",
    "    \"\"\"\n",
    "    # put the figure pixmap into a numpy array\n",
    "    buf = fig2data ( fig )\n",
    "    w, h, d = buf.shape\n",
    "    return Image.frombytes( \"RGBA\", ( w ,h ), buf.tobytes( ) )\n"
   ]
  },
  {
   "cell_type": "code",
   "execution_count": 11,
   "id": "recognized-certification",
   "metadata": {},
   "outputs": [],
   "source": [
    "def iscreen(impact_object, screen='OTR2', k1='x', k2='y', dpi=72):\n",
    "    fig = impact_object.particles[screen].plot(k1, k2, return_figure=True, figsize=(5,4))\n",
    "    fig.dpi=dpi\n",
    "    fig.axes[2].set_title(screen)\n",
    "    fig.tight_layout()\n",
    "    return fig2img(fig)"
   ]
  },
  {
   "cell_type": "code",
   "execution_count": 23,
   "id": "growing-keeping",
   "metadata": {},
   "outputs": [],
   "source": [
    "def make_dashboard(impact_object=None, dat=None, itime=None, outpath='test/'):\n",
    "    \"\"\"\n",
    "    Makes a composite dashboard image from data dict\n",
    "    \n",
    "    Returns the path to the figure written\n",
    "    \"\"\"\n",
    "    if impact_object:\n",
    "        I = impact_object   \n",
    "    else:\n",
    "        itime = dat['isotime']\n",
    "        I = Impact.from_archive(dat['archive'])\n",
    "        \n",
    "    run_time = I.output['run_info']['run_time'] \n",
    "    # Main figure\n",
    "    FIG0 = I.plot(['norm_emit_x','norm_emit_y'], \n",
    "       y2=['sigma_x', 'sigma_y', 'sigma_z'],\n",
    "       \n",
    "       ylim=(0,2e-6), figsize=(16,8), return_figure=True)\n",
    "    \n",
    "    title=f'{PREFIX}\\n Acquired settings at {itime}, simulation run time: {run_time/60:5.1f} min'\n",
    "    \n",
    "    FIG0.tight_layout()\n",
    "    FIG0.axes[0].set_title(title)\n",
    "    \n",
    "    DPI = 150\n",
    "    FIG0.dpi=DPI\n",
    "    im0 = fig2img(FIG0)\n",
    "    \n",
    "    # For short debugging runs\n",
    "    if 'YAG02' not in I.particles:\n",
    "        screen1='initial_particles'\n",
    "        screen2='initial_particles'\n",
    "        screen3='final_particles'\n",
    "    else:\n",
    "        screen1='YAG02'\n",
    "        screen2='YAG03'\n",
    "        screen3='OTR2'\n",
    "\n",
    "    \n",
    "    \n",
    "    im1 = iscreen(I, screen=screen1, k1='x', k2='y', dpi=DPI)\n",
    "    im2 = iscreen(I, screen=screen2, k1='x', k2='y', dpi=DPI)\n",
    "    im3 = iscreen(I, screen=screen3, k1='x', k2='y', dpi=DPI)\n",
    "    im4 = iscreen(I, screen=screen3, k1='px', k2='py', dpi=DPI)\n",
    "    im5 = iscreen(I, screen=screen3, k1='delta_z', k2='delta_energy', dpi=DPI)\n",
    "    \n",
    "    SIZE =  (im0.width + im1.width, im1.height+im2.height+im3.height)\n",
    "    ii = Image.new('RGB', SIZE)\n",
    "    \n",
    "    invim0 = ImageOps.invert(im0.convert('RGB'))\n",
    "    ii.paste(invim0, (0, 10))\n",
    "    \n",
    "    ii.paste(im1, (300, im0.height))\n",
    "    ii.paste(im2, (400+im1.width,im0.height))\n",
    "    ii.paste(im3, (im0.width,0))\n",
    "    ii.paste(im4, (im0.width,im3.height))\n",
    "    ii.paste(im5, (im0.width,im4.height+im3.height))\n",
    "    \n",
    "    fname = f'{PREFIX}-{itime}-dashboard.png'\n",
    "    fout = os.path.join(outpath, fname)\n",
    "    \n",
    "    ii.save(fout)\n",
    "    \n",
    "    return fout\n",
    "    "
   ]
  },
  {
   "cell_type": "code",
   "execution_count": 24,
   "id": "arbitrary-spray",
   "metadata": {},
   "outputs": [
    {
     "data": {
      "text/plain": [
       "('test/cu-inj-live-impact-2021-02-19T13:12:48-08:00-dashboard.png',\n",
       " <PIL.Image.Image image mode=RGB size=3150x1800 at 0x2B620E92AA90>)"
      ]
     },
     "execution_count": 24,
     "metadata": {},
     "output_type": "execute_result"
    }
   ],
   "source": [
    "##%%capture\n",
    "#make_dashboard(dat=json.load(open('output/cu-inj-live-impact-2021-02-19T13:12:48-08:00.json')))"
   ]
  },
  {
   "cell_type": "code",
   "execution_count": null,
   "id": "behind-receipt",
   "metadata": {},
   "outputs": [],
   "source": []
  }
 ],
 "metadata": {
  "kernelspec": {
   "display_name": "Python 3",
   "language": "python",
   "name": "python3"
  },
  "language_info": {
   "codemirror_mode": {
    "name": "ipython",
    "version": 3
   },
   "file_extension": ".py",
   "mimetype": "text/x-python",
   "name": "python",
   "nbconvert_exporter": "python",
   "pygments_lexer": "ipython3",
   "version": "3.8.6"
  }
 },
 "nbformat": 4,
 "nbformat_minor": 5
}
