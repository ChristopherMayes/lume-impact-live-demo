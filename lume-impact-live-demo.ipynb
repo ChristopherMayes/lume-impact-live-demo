{
 "cells": [
  {
   "cell_type": "markdown",
   "metadata": {},
   "source": [
    "# Live cu-inj-live-impact "
   ]
  },
  {
   "cell_type": "code",
   "execution_count": 3,
   "metadata": {},
   "outputs": [
    {
     "name": "stdout",
     "output_type": "stream",
     "text": [
      "[NbConvertApp] Converting notebook make_dashboard.ipynb to script\n",
      "[NbConvertApp] Writing 3662 bytes to make_dashboard.py\n"
     ]
    }
   ],
   "source": [
    "# Setup directories, and convert dashboard notebook to a script for importing\n",
    "!./setup.bash"
   ]
  },
  {
   "cell_type": "code",
   "execution_count": 1,
   "metadata": {},
   "outputs": [],
   "source": [
    "from impact import evaluate_impact_with_distgen, run_impact_with_distgen\n",
    "from impact.tools import isotime\n",
    "from impact.evaluate import  default_impact_merit\n",
    "from impact import Impact\n",
    "\n",
    "from make_dashboard import make_dashboard"
   ]
  },
  {
   "cell_type": "code",
   "execution_count": 2,
   "metadata": {},
   "outputs": [],
   "source": [
    "import pandas as pd\n",
    "\n",
    "import json\n",
    "import epics\n",
    "\n",
    "import os\n",
    "from time import sleep, time\n",
    "\n",
    "# Nicer plotting\n",
    "import matplotlib.pyplot as plt\n",
    "%config InlineBackend.figure_format = 'retina'"
   ]
  },
  {
   "cell_type": "code",
   "execution_count": 4,
   "metadata": {},
   "outputs": [],
   "source": [
    "ROOT = os.getcwd()"
   ]
  },
  {
   "cell_type": "markdown",
   "metadata": {},
   "source": [
    "# Configuration"
   ]
  },
  {
   "cell_type": "code",
   "execution_count": 5,
   "metadata": {},
   "outputs": [],
   "source": [
    "PREFIX = 'cu-inj-live-impact'\n",
    "\n",
    "# Directory for summary output\n",
    "OUTPUTDIR = os.path.join(ROOT, 'output')\n",
    "\n",
    "# Directory to output plots\n",
    "PLOTDIR = os.path.join(ROOT, 'plot')\n",
    "\n",
    "# Directory for archive files\n",
    "APATH = os.path.join(ROOT, 'archive')\n",
    "\n",
    "\n",
    "# PV -> Sim conversion table\n",
    "CSV =  'pv_mapping/cu_inj_impact.csv'\n",
    "\n",
    "# Base input files\n",
    "CONFIG0 = {'impact_config': os.path.expandvars('$LCLS_LATTICE/impact/models/cu_inj/ImpactT.yaml'),\n",
    "          'distgen_input_file': os.path.expandvars('$LCLS_LATTICE/distgen/models/cu_inj/distgen.yaml')\n",
    "         }\n",
    "\n",
    "# Base settings\n",
    "SETTINGS0 = {\n",
    " 'distgen:t_dist:length:value': 4 * 1.65 ,     #  Inferred pulse stacker FWHM: 4 ps, converted to tukey length\n",
    " 'distgen:n_particle': 10000,   \n",
    " 'stop': 16.5, \n",
    " 'timeout': 100000,\n",
    " 'header:Nx': 32,\n",
    " 'header:Ny': 32,\n",
    " 'header:Nz': 32,\n",
    " #'total_charge':0, # Set to 0 to turn off Space Charge for faster execution \n",
    " 'change_timestep_1:dt':4e-12, \n",
    " \n",
    " # Parallel control\n",
    " 'header:Nprow':4,\n",
    " 'header:Npcol':4,\n",
    " 'use_mpi':True\n",
    "   }"
   ]
  },
  {
   "cell_type": "markdown",
   "metadata": {},
   "source": [
    "# EPICS -> Simulation settings"
   ]
  },
  {
   "cell_type": "code",
   "execution_count": 6,
   "metadata": {
    "tags": []
   },
   "outputs": [
    {
     "data": {
      "text/plain": [
       "{'distgen:t_dist:length:value': 6.6,\n",
       " 'distgen:n_particle': 10000,\n",
       " 'stop': 16.5,\n",
       " 'timeout': 100000,\n",
       " 'header:Nx': 32,\n",
       " 'header:Ny': 32,\n",
       " 'header:Nz': 32,\n",
       " 'change_timestep_1:dt': 4e-12,\n",
       " 'header:Nprow': 4,\n",
       " 'header:Npcol': 4,\n",
       " 'use_mpi': True,\n",
       " 'distgen:r_dist:sigma_xy:value': 0.39999996,\n",
       " 'SOL1:solenoid_field_scale': 0.23848906168410197,\n",
       " 'CQ01:b1_gradient': -0.0035053943200264097,\n",
       " 'SQ01:b1_gradient': -0.001067800332906425,\n",
       " 'L0A_phase:dtheta0_deg': 0.0,\n",
       " 'L0B_phase:dtheta0_deg': -2.5,\n",
       " 'L0A_scale:voltage': 58000000.0,\n",
       " 'L0B_scale:voltage': 70959535.28927356,\n",
       " 'QA01:b1_gradient': 3.0632439873091992,\n",
       " 'QA02:b1_gradient': -2.3396812820821,\n",
       " 'QE01:b1_gradient': 2.1838888890636,\n",
       " 'QE02:b1_gradient': -0.30859259261728,\n",
       " 'QE03:b1_gradient': -3.5556574076918603,\n",
       " 'QE04:b1_gradient': 3.04366666691016}"
      ]
     },
     "execution_count": 6,
     "metadata": {},
     "output_type": "execute_result"
    }
   ],
   "source": [
    "IRIS_DIAMETER_FROM_ENUM_IN_MM = {0:'LCLS', # LCLS cutout picture\n",
    "       1 :1.8 ,\n",
    "       2 :1.6 ,\n",
    "       3 :1.4 ,\n",
    "       4 :1.2 ,\n",
    "       5 :1.1 ,\n",
    "       6 :1.0 ,\n",
    "       7 :0.8 ,\n",
    "       8 :0.6 ,\n",
    "       9 :0.5 ,\n",
    "       10: 0.4 , \n",
    "       11: 0.3 }\n",
    "\n",
    "def get_live_settings(csv, base_settings={}):\n",
    "    \"\"\"\n",
    "    Fetches live settings for all devices in the CSV table, and translates them to simulation inputs\n",
    "     \n",
    "    \"\"\"\n",
    "    df = pd.read_csv(csv)\n",
    "    pv_names = list(df['device_pv_name'])\n",
    "    \n",
    "    df['pv_value'] = epics.caget_many(pv_names)\n",
    "    df.set_index('device_pv_name', inplace=True)\n",
    "    \n",
    "    # Custom for enum\n",
    "    iris_enum = int(df.at['IRIS:LR20:130:CONFG_SEL', 'pv_value'])\n",
    "    df.at['IRIS:LR20:130:CONFG_SEL', 'pv_value'] = IRIS_DIAMETER_FROM_ENUM_IN_MM[iris_enum]\n",
    "    \n",
    "    # Assign impact\n",
    "    df['impact_value'] = df['impact_factor']*df['pv_value'] \n",
    "    \n",
    "    # Collect settings\n",
    "    settings = base_settings.copy()\n",
    "    settings.update(dict(zip(df['impact_name'], df['impact_value'])))\n",
    "\n",
    "    return settings\n",
    "\n",
    "LIVE_SETTINGS = get_live_settings(CSV, SETTINGS0)\n",
    "LIVE_SETTINGS"
   ]
  },
  {
   "cell_type": "code",
   "execution_count": 7,
   "metadata": {
    "tags": []
   },
   "outputs": [],
   "source": [
    "#%%time\n",
    "#I0 = run_impact_with_distgen(LIVE_SETTINGS, **CONFIG0, verbose=True )\n",
    "    "
   ]
  },
  {
   "cell_type": "code",
   "execution_count": 8,
   "metadata": {},
   "outputs": [],
   "source": [
    "#I0.plot(['sigma_x', 'sigma_y'], figsize=(16,9))"
   ]
  },
  {
   "cell_type": "markdown",
   "metadata": {},
   "source": [
    "# Get live "
   ]
  },
  {
   "cell_type": "code",
   "execution_count": 9,
   "metadata": {},
   "outputs": [],
   "source": [
    "# Old routine\n",
    "def make_plot(impact_object, itime=None, dir='/nfs/slac/g/beamphysics/cmayes/live-test/plot/'):\n",
    "    fig = impact_object.plot(y=['norm_emit_x', 'norm_emit_y'], \n",
    "                             #y2=['mean_kinetic_energy'], \n",
    "                             y2=['sigma_x', 'sigma_y', 'sigma_z'],\n",
    "                             return_figure=True, figsize=(16,9), include_labels=False, xlim=(0,20), ylim=(0, 2e-6))\n",
    "    if not itime:\n",
    "        itime=isotime()\n",
    "        \n",
    "    run_time = impact_object.output['run_info']['run_time']        \n",
    "    title=f'{PREFIX}: Acquired settings at {itime}, simulation run time: {run_time/60:5.1f} min'\n",
    "    fig.axes[0].set_title(title)        \n",
    "    fname=f'{PREFIX}-{itime}.png'\n",
    "    fname = os.path.join(dir, fname)\n",
    "    plt.savefig(fname, dpi=150)\n",
    "    plt.clf() # Don't show in the notebook\n",
    "    \n",
    "    print(title)\n",
    "    print('Plot written to:', fname)\n",
    "    return fname\n",
    "\n",
    "#make_plot(I0, dir=PLOTDIR)"
   ]
  },
  {
   "cell_type": "code",
   "execution_count": 10,
   "metadata": {},
   "outputs": [],
   "source": [
    "def my_merit(impact_object, itime):\n",
    "    merit0 = default_impact_merit(impact_object)\n",
    "    #plot_file = make_plot(impact_object, itime=itime, dir=PLOTDIR)\n",
    "    plot_file = make_dashboard(impact_object, itime=itime, outpath=PLOTDIR)\n",
    "    print('Dashboard written:', plot_file)\n",
    "    plt.close('all')\n",
    "    merit0['plot_file'] = plot_file\n",
    "    merit0['isotime'] = itime\n",
    "    return merit0"
   ]
  },
  {
   "cell_type": "code",
   "execution_count": 11,
   "metadata": {},
   "outputs": [],
   "source": [
    "def run1():\n",
    "    mysettings = get_live_settings(CSV, SETTINGS0)\n",
    "    itime = isotime()\n",
    "    res = evaluate_impact_with_distgen(mysettings,\n",
    "                                       merit_f=lambda x: my_merit(x, itime),\n",
    "                                       archive_path=APATH,\n",
    "                                       **CONFIG0 )\n",
    "    fname = fname=f'{OUTPUTDIR}/{PREFIX}-{itime}.json'\n",
    "    json.dump(res, open(fname, 'w'))\n",
    "    print('Written:', fname)\n",
    "    return res\n",
    "    "
   ]
  },
  {
   "cell_type": "code",
   "execution_count": 12,
   "metadata": {},
   "outputs": [],
   "source": [
    "#run1()"
   ]
  },
  {
   "cell_type": "markdown",
   "metadata": {},
   "source": [
    "# loop it"
   ]
  },
  {
   "cell_type": "code",
   "execution_count": null,
   "metadata": {},
   "outputs": [],
   "source": [
    "while True:\n",
    "    run1()"
   ]
  }
 ],
 "metadata": {
  "kernelspec": {
   "display_name": "Python 3",
   "language": "python",
   "name": "python3"
  },
  "language_info": {
   "codemirror_mode": {
    "name": "ipython",
    "version": 3
   },
   "file_extension": ".py",
   "mimetype": "text/x-python",
   "name": "python",
   "nbconvert_exporter": "python",
   "pygments_lexer": "ipython3",
   "version": "3.8.6"
  }
 },
 "nbformat": 4,
 "nbformat_minor": 4
}
