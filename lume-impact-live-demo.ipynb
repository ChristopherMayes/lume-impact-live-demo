{
 "cells": [
  {
   "cell_type": "markdown",
   "metadata": {},
   "source": [
    "# Live cu-inj-live-impact "
   ]
  },
  {
   "cell_type": "code",
   "execution_count": null,
   "metadata": {},
   "outputs": [],
   "source": [
    "# Setup directories, and convert dashboard notebook to a script for importing\n",
    "#!./setup.bash"
   ]
  },
  {
   "cell_type": "code",
   "execution_count": null,
   "metadata": {},
   "outputs": [],
   "source": [
    "#%load_ext autoreload\n",
    "#%autoreload 2"
   ]
  },
  {
   "cell_type": "code",
   "execution_count": 2,
   "metadata": {},
   "outputs": [],
   "source": [
    "from impact import evaluate_impact_with_distgen, run_impact_with_distgen\n",
    "from impact.tools import isotime\n",
    "from impact.evaluate import  default_impact_merit\n",
    "from impact import Impact\n",
    "\n",
    "from make_dashboard import make_dashboard\n",
    "from get_vcc_image import get_live_distgen_xy_dist\n",
    "\n",
    "import matplotlib as mpl"
   ]
  },
  {
   "cell_type": "code",
   "execution_count": 3,
   "metadata": {},
   "outputs": [],
   "source": [
    "import pandas as pd\n",
    "\n",
    "import json\n",
    "import epics\n",
    "\n",
    "import sys\n",
    "import os\n",
    "from time import sleep, time\n",
    "\n",
    "\n",
    "import matplotlib.pyplot as plt\n",
    "\n",
    "import matplotlib as mpl\n",
    "mpl.use('Agg')\n",
    "\n",
    "# Nicer plotting\n",
    "#%config InlineBackend.figure_format = 'retina'"
   ]
  },
  {
   "cell_type": "markdown",
   "metadata": {},
   "source": [
    "# Logging"
   ]
  },
  {
   "cell_type": "code",
   "execution_count": 4,
   "metadata": {},
   "outputs": [],
   "source": [
    "PREFIX = 'lume-impact-live-demo'"
   ]
  },
  {
   "cell_type": "code",
   "execution_count": 5,
   "metadata": {},
   "outputs": [],
   "source": [
    "import logging\n",
    "\n",
    "# Gets or creates a logger\n",
    "logger = logging.getLogger(PREFIX)  \n",
    "\n",
    "# set log level\n",
    "logger.setLevel(logging.INFO)\n",
    "\n",
    "# define file handler and set formatter\n",
    "file_handler = logging.FileHandler(f'{PREFIX}.log')\n",
    "#formatter    = logging.Formatter('%(asctime)s : %(levelname)s : %(name)s : %(message)s')\n",
    "formatter    = logging.Formatter(fmt=\"%(asctime)s :  %(name)s : %(message)s \", datefmt=\"%Y-%m-%dT%H:%M:%S%z\")\n",
    "\n",
    "# Add print to stdout\n",
    "logger.addHandler(logging.StreamHandler(sys.stdout))\n",
    "\n",
    "file_handler.setFormatter(formatter)\n",
    "\n",
    "# add file handler to logger\n",
    "logger.addHandler(file_handler)"
   ]
  },
  {
   "cell_type": "markdown",
   "metadata": {},
   "source": [
    "# Configuration\n",
    "\n",
    "Set up basic input sources and output path.\n",
    "\n",
    "Depends on the `$LCLS_LATTICE` environmental variable pointing to a checked out copy of https://github.com/slaclab/lcls-lattice (protected)"
   ]
  },
  {
   "cell_type": "code",
   "execution_count": 6,
   "metadata": {},
   "outputs": [],
   "source": [
    "DEBUG = True\n",
    "\n",
    "ROOT = os.getcwd()\n",
    "\n",
    "WORKDIR=os.path.expandvars('$SCRATCH')"
   ]
  },
  {
   "cell_type": "code",
   "execution_count": 7,
   "metadata": {},
   "outputs": [],
   "source": [
    "# Directory for summary output\n",
    "OUTPUTDIR = os.path.join(ROOT, 'output')\n",
    "\n",
    "# Directory to output plots\n",
    "PLOTDIR = os.path.join(ROOT, 'plot')\n",
    "\n",
    "# Directory for archive files\n",
    "APATH = os.path.join(ROOT, 'archive')\n",
    "\n",
    "# PV -> Sim conversion table\n",
    "CSV =  'pv_mapping/cu_inj_impact.csv'\n",
    "\n",
    "DASHBOARD_KWARGS = {'outpath':PLOTDIR,\n",
    "                    'screen1': 'YAG02',\n",
    "                    'screen2': 'YAG03',\n",
    "                    'screen3': 'OTR2'\n",
    "                   }\n",
    "\n",
    "\n",
    "VCC_DEVICE = 'CAMR:IN20:186' # LCLS\n",
    "#BASEPV = 'CAMR:LT10:900' # FACET-II\n",
    "\n",
    "\n",
    "# Base input files\n",
    "CONFIG0 = {'impact_config': os.path.expandvars('$LCLS_LATTICE/impact/models/cu_inj/v0/ImpactT.yaml'),\n",
    "          'distgen_input_file': os.path.expandvars('$LCLS_LATTICE/distgen/models/cu_inj/vcc_image/distgen.yaml')\n",
    "#           'workdir':os.path.expandvars('$SCRATCH'),\n",
    "#           'mpi_run': 'salloc --partition ard -N 1 -n {n} mpirun -n {n} --use-hwthread-cpus {command_mpi}',\n",
    "#          'command_mpi': '/sdf/home/c/cmayes/impact/bin/ImpactTexe-mpi'   \n",
    "         }\n",
    "\n",
    "# Dummy file for distgen\n",
    "DISTGEN_LASER_FILE = os.path.join(ROOT, 'distgen_laser.txt')\n",
    "\n",
    "# Base settings\n",
    "SETTINGS0 = {\n",
    " 'distgen:t_dist:length:value': 4 * 1.65 ,     #  Inferred pulse stacker FWHM: 4 ps, converted to tukey length\n",
    " 'distgen:n_particle': 1000,   \n",
    " 'stop': 16.5, \n",
    " 'timeout': 10000,\n",
    " 'header:Nx': 32,\n",
    " 'header:Ny': 32,\n",
    " 'header:Nz': 32,\n",
    " 'total_charge': 0, # Set to 0 to turn off Space Charge for faster execution \n",
    " 'change_timestep_1:dt':4e-12, \n",
    " \n",
    " # Parallel control\n",
    " 'numprocs': 32,\n",
    "    \n",
    " # SDF setup    \n",
    " 'command': '/sdf/home/c/cmayes/impact/bin/ImpactTexe',    \n",
    " 'command_mpi': '/sdf/home/c/cmayes/impact/bin/ImpactTexe-mpi',\n",
    " 'mpi_run': 'salloc --partition ard -N 1 -n {n} /sdf/sw/gcc-4.8.5/openmpi-4.0.4/bin/mpirun -n {n} {command_mpi}'\n",
    "   }\n",
    "\n",
    "if DEBUG:\n",
    "    logger.info('DEBUG MODE: Running without space charge for speed. ')\n",
    "    SETTINGS0['distgen:n_particle'] =1000\n",
    "    SETTINGS0['total_charge'] = 0"
   ]
  },
  {
   "cell_type": "markdown",
   "metadata": {},
   "source": [
    "# EPICS -> Simulation settings"
   ]
  },
  {
   "cell_type": "code",
   "execution_count": 8,
   "metadata": {
    "tags": []
   },
   "outputs": [],
   "source": [
    "def get_live_settings(csv, base_settings={}):\n",
    "    \"\"\"\n",
    "    Fetches live settings for all devices in the CSV table, and translates them to simulation inputs\n",
    "     \n",
    "    \"\"\"\n",
    "    df = pd.read_csv(csv)\n",
    "    pv_names = list(df['device_pv_name'])\n",
    "    \n",
    "    df['pv_value'] = epics.caget_many(pv_names)\n",
    "    df.set_index('device_pv_name', inplace=True)\n",
    "    \n",
    "    # Custom for enum\n",
    "    #iris_enum = int(df.at['IRIS:LR20:130:CONFG_SEL', 'pv_value'])\n",
    "    #df.at['IRIS:LR20:130:CONFG_SEL', 'pv_value'] = IRIS_DIAMETER_FROM_ENUM_IN_MM[iris_enum]\n",
    "    \n",
    "    # Assign impact\n",
    "    df['impact_value'] = df['impact_factor']*df['pv_value'] \n",
    "\n",
    "    # Collect settings\n",
    "    settings = base_settings.copy()\n",
    "    settings.update(dict(zip(df['impact_name'], df['impact_value'])))\n",
    "\n",
    "    # VCC image\n",
    "    settings['distgen:xy_dist:file'] = get_live_distgen_xy_dist(filename=DISTGEN_LASER_FILE, vcc_device=VCC_DEVICE)\n",
    "    \n",
    "    return settings, df\n",
    "\n",
    "# LIVE_SETTINGS, DF = get_live_settings(CSV, SETTINGS0)\n",
    "#DF[['Variable', 'bmad_name', 'pv_value','pv_unit',  'device_min', 'device_max',  'impact_name', 'impact_factor', 'impact_unit',\n",
    "#       'impact_description',  'impact_value']]"
   ]
  },
  {
   "cell_type": "code",
   "execution_count": 9,
   "metadata": {},
   "outputs": [],
   "source": [
    "#CONFIG0"
   ]
  },
  {
   "cell_type": "code",
   "execution_count": 10,
   "metadata": {
    "tags": []
   },
   "outputs": [],
   "source": [
    "#%%time\n",
    "#I0 = run_impact_with_distgen(LIVE_SETTINGS,  workdir=WORKDIR, **CONFIG0, verbose=True )"
   ]
  },
  {
   "cell_type": "code",
   "execution_count": 11,
   "metadata": {},
   "outputs": [],
   "source": [
    "DO_TIMING = False\n",
    "\n",
    "if DO_TIMING:\n",
    "    import numpy as np\n",
    "    import time\n",
    "    results = []\n",
    "    tlist = []\n",
    "    nlist = 2**np.arange(1,8, 1)[::-1]\n",
    "    for n in nlist:\n",
    "        t1 = time.time()\n",
    "        LIVE_SETTINGS['numprocs'] = n\n",
    "        print(f'running wit {n}')\n",
    "        result = run_impact_with_distgen(LIVE_SETTINGS,  workdir=WORKDIR, **CONFIG0, verbose=False )\n",
    "        results.append(result)\n",
    "        dt = time.time() - t1\n",
    "        tlist.append(dt)\n",
    "        print(n, dt)     \n",
    "        \n",
    "    tlist, nlist        "
   ]
  },
  {
   "cell_type": "code",
   "execution_count": 12,
   "metadata": {},
   "outputs": [],
   "source": [
    "# %matplotlib inline\n",
    "# I0.plot(['norm_emit_x'], y2=['sigma_x'], ylim=(0, 10e-6), ylim2=(0,2e-3), figsize=(16,9))"
   ]
  },
  {
   "cell_type": "code",
   "execution_count": 13,
   "metadata": {},
   "outputs": [],
   "source": [
    "#I0.initial_particles.plot('x', 'y')"
   ]
  },
  {
   "cell_type": "markdown",
   "metadata": {},
   "source": [
    "# Get live values, run Impact-T, make dashboard"
   ]
  },
  {
   "cell_type": "code",
   "execution_count": 14,
   "metadata": {},
   "outputs": [],
   "source": [
    "# Patch this into the function below for the dashboard creation\n",
    "def my_merit(impact_object, itime):\n",
    "    # Collect standard output statistics\n",
    "    merit0 = default_impact_merit(impact_object)\n",
    "    # Make the dashboard from the evaluated object\n",
    "    plot_file = make_dashboard(impact_object, itime=itime, **DASHBOARD_KWARGS)\n",
    "    #print('Dashboard written:', plot_file)\n",
    "    logger.info(f'Dashboard written: {plot_file}')\n",
    "    \n",
    "    # Assign extra info\n",
    "    merit0['plot_file'] = plot_file    \n",
    "    merit0['isotime'] = itime\n",
    "    \n",
    "    # Clear any buffers\n",
    "    plt.close('all')\n",
    "\n",
    "    return merit0"
   ]
  },
  {
   "cell_type": "code",
   "execution_count": 15,
   "metadata": {},
   "outputs": [],
   "source": [
    "#my_merit(I0, '123')"
   ]
  },
  {
   "cell_type": "code",
   "execution_count": 16,
   "metadata": {},
   "outputs": [],
   "source": [
    "def run1():\n",
    "    dat = {}\n",
    "    \n",
    "    # Acquire settings\n",
    "    mysettings, df = get_live_settings(CSV, SETTINGS0)\n",
    "    itime = isotime()\n",
    "    dat['isotime'] = itime\n",
    "    \n",
    "    # Record inputs\n",
    "    dat['inputs'] = mysettings\n",
    "    dat['config'] = CONFIG0\n",
    "    dat['pv_mapping_dataframe'] = df.to_dict()\n",
    "    \n",
    "    \n",
    "    logger.info(f'Acquired settings from EPICS at: {itime}')\n",
    "    logger.info(f'Running evaluate_impact_with_distgen...')\n",
    "    \n",
    "    t0 = time()\n",
    "    dat['outputs'] = evaluate_impact_with_distgen(mysettings,\n",
    "                                       merit_f=lambda x: my_merit(x, itime),\n",
    "                                       archive_path=APATH,\n",
    "                                       workdir=WORKDIR,\n",
    "                                       **CONFIG0 )\n",
    "    logger.info(f'...finished in {(time()-t0)/60:.1f} min')\n",
    "    fname = fname=f'{OUTPUTDIR}/{PREFIX}-{itime}.json'\n",
    "    json.dump(dat, open(fname, 'w'))\n",
    "    #print('Written:', fname)\n",
    "    logger.info(f'Output written: {fname}')\n",
    "    return dat\n",
    "    "
   ]
  },
  {
   "cell_type": "code",
   "execution_count": 17,
   "metadata": {},
   "outputs": [
    {
     "name": "stdout",
     "output_type": "stream",
     "text": [
      "Acquired settings from EPICS at: 2021-11-24T12:44:58-08:00\n",
      "Running evaluate_impact_with_distgen...\n",
      "Dashboard written: /sdf/home/c/cmayes/GitHub/lume-impact-live-demo/plot/lume-impact-live-demo-2021-11-24T12:44:58-08:00-dashboard.png\n",
      "...finished in 5.7 min\n",
      "Output written: /sdf/home/c/cmayes/GitHub/lume-impact-live-demo/output/lume-impact-live-demo-2021-11-24T12:44:58-08:00.json\n"
     ]
    }
   ],
   "source": [
    "# Here are the results\n",
    "#result = run1()\n",
    "#result.keys()"
   ]
  },
  {
   "cell_type": "code",
   "execution_count": null,
   "metadata": {},
   "outputs": [],
   "source": [
    "# Basic config\n",
    "#result['config']"
   ]
  },
  {
   "cell_type": "code",
   "execution_count": null,
   "metadata": {},
   "outputs": [],
   "source": [
    "# Simulation inputs\n",
    "#result['inputs']"
   ]
  },
  {
   "cell_type": "code",
   "execution_count": 19,
   "metadata": {},
   "outputs": [],
   "source": [
    "# Simulation outputs\n",
    "#result['outputs']"
   ]
  },
  {
   "cell_type": "markdown",
   "metadata": {},
   "source": [
    "# Show the plot "
   ]
  },
  {
   "cell_type": "code",
   "execution_count": 21,
   "metadata": {},
   "outputs": [],
   "source": [
    "#from IPython.display import Image\n",
    "#Image(filename=result['outputs']['plot_file']) "
   ]
  },
  {
   "cell_type": "markdown",
   "metadata": {},
   "source": [
    "# loop it\n"
   ]
  },
  {
   "cell_type": "code",
   "execution_count": null,
   "metadata": {},
   "outputs": [],
   "source": [
    "if __name__ == '__main__':\n",
    "    while True:\n",
    "        run1()"
   ]
  }
 ],
 "metadata": {
  "kernelspec": {
   "display_name": "Python 3 (ipykernel)",
   "language": "python",
   "name": "python3"
  },
  "language_info": {
   "codemirror_mode": {
    "name": "ipython",
    "version": 3
   },
   "file_extension": ".py",
   "mimetype": "text/x-python",
   "name": "python",
   "nbconvert_exporter": "python",
   "pygments_lexer": "ipython3",
   "version": "3.8.12"
  }
 },
 "nbformat": 4,
 "nbformat_minor": 4
}
