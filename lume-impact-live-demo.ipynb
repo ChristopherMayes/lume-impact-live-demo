{
 "cells": [
  {
   "cell_type": "markdown",
   "metadata": {},
   "source": [
    "# Live cu-inj-live-impact "
   ]
  },
  {
   "cell_type": "code",
   "execution_count": null,
   "metadata": {},
   "outputs": [],
   "source": [
    "# Setup directories, and convert dashboard notebook to a script for importing\n",
    "#!./setup.bash"
   ]
  },
  {
   "cell_type": "code",
   "execution_count": null,
   "metadata": {},
   "outputs": [],
   "source": [
    "from impact import evaluate_impact_with_distgen, run_impact_with_distgen\n",
    "from impact.tools import isotime\n",
    "from impact.evaluate import  default_impact_merit\n",
    "from impact import Impact\n",
    "\n",
    "from make_dashboard import make_dashboard\n",
    "from get_vcc_image import get_live_distgen_xy_dist\n",
    "\n",
    "import matplotlib as mpl"
   ]
  },
  {
   "cell_type": "code",
   "execution_count": null,
   "metadata": {},
   "outputs": [],
   "source": [
    "import pandas as pd\n",
    "\n",
    "import json\n",
    "import epics\n",
    "\n",
    "import sys\n",
    "import os\n",
    "from time import sleep, time\n",
    "\n",
    "\n",
    "import matplotlib.pyplot as plt\n",
    "\n",
    "import matplotlib as mpl\n",
    "mpl.use('Agg')\n",
    "\n",
    "# Nicer plotting\n",
    "# %config InlineBackend.figure_format = 'retina'"
   ]
  },
  {
   "cell_type": "markdown",
   "metadata": {},
   "source": [
    "# Logging"
   ]
  },
  {
   "cell_type": "code",
   "execution_count": null,
   "metadata": {},
   "outputs": [],
   "source": [
    "PREFIX = 'lume-impact-live-demo'"
   ]
  },
  {
   "cell_type": "code",
   "execution_count": null,
   "metadata": {},
   "outputs": [],
   "source": [
    "import logging\n",
    "\n",
    "# Gets or creates a logger\n",
    "logger = logging.getLogger(PREFIX)  \n",
    "\n",
    "# set log level\n",
    "logger.setLevel(logging.INFO)\n",
    "\n",
    "# define file handler and set formatter\n",
    "file_handler = logging.FileHandler(f'{PREFIX}.log')\n",
    "#formatter    = logging.Formatter('%(asctime)s : %(levelname)s : %(name)s : %(message)s')\n",
    "formatter    = logging.Formatter(fmt=\"%(asctime)s :  %(name)s : %(message)s \", datefmt=\"%Y-%m-%dT%H:%M:%S%z\")\n",
    "\n",
    "# Add print to stdout\n",
    "logger.addHandler(logging.StreamHandler(sys.stdout))\n",
    "\n",
    "file_handler.setFormatter(formatter)\n",
    "\n",
    "# add file handler to logger\n",
    "logger.addHandler(file_handler)"
   ]
  },
  {
   "cell_type": "markdown",
   "metadata": {},
   "source": [
    "# Configuration\n",
    "\n",
    "Set up basic input sources and output path.\n",
    "\n",
    "Depends on the `$LCLS_LATTICE` environmental variable pointing to a checked out copy of https://github.com/slaclab/lcls-lattice (protected)"
   ]
  },
  {
   "cell_type": "code",
   "execution_count": null,
   "metadata": {},
   "outputs": [],
   "source": [
    "ROOT = os.getcwd()"
   ]
  },
  {
   "cell_type": "code",
   "execution_count": null,
   "metadata": {},
   "outputs": [],
   "source": [
    "# Directory for summary output\n",
    "OUTPUTDIR = os.path.join(ROOT, 'output')\n",
    "\n",
    "# Directory to output plots\n",
    "PLOTDIR = os.path.join(ROOT, 'plot')\n",
    "\n",
    "# Directory for archive files\n",
    "APATH = os.path.join(ROOT, 'archive')\n",
    "\n",
    "# PV -> Sim conversion table\n",
    "CSV =  'pv_mapping/cu_inj_impact.csv'\n",
    "\n",
    "# Base input files\n",
    "CONFIG0 = {'impact_config': os.path.expandvars('$LCLS_LATTICE/impact/models/cu_inj/ImpactT.yaml'),\n",
    "          'distgen_input_file': os.path.expandvars('$LCLS_LATTICE/distgen/models/cu_inj/vcc_image/distgen.yaml')\n",
    "         }\n",
    "\n",
    "# Dummy file for distgen\n",
    "DISTGEN_LASER_FILE = os.path.join(ROOT, 'distgen_laser.txt')\n",
    "\n",
    "# Base settings\n",
    "SETTINGS0 = {\n",
    " 'distgen:t_dist:length:value': 4 * 1.65 ,     #  Inferred pulse stacker FWHM: 4 ps, converted to tukey length\n",
    " 'distgen:n_particle': 100000,   \n",
    " 'stop': 16.5, \n",
    " 'timeout': 100000,\n",
    " 'header:Nx': 32,\n",
    " 'header:Ny': 32,\n",
    " 'header:Nz': 32,\n",
    " #'total_charge':0, # Set to 0 to turn off Space Charge for faster execution \n",
    " 'change_timestep_1:dt':4e-12, \n",
    " \n",
    " # Parallel control\n",
    " 'header:Nprow':4,\n",
    " 'header:Npcol':8,\n",
    " 'use_mpi':True,\n",
    " 'mpi_run': 'mpirun -n {n} --use-hwthread-cpus {command_mpi}'\n",
    "   }"
   ]
  },
  {
   "cell_type": "markdown",
   "metadata": {},
   "source": [
    "# EPICS -> Simulation settings"
   ]
  },
  {
   "cell_type": "code",
   "execution_count": null,
   "metadata": {
    "tags": []
   },
   "outputs": [],
   "source": [
    "IRIS_DIAMETER_FROM_ENUM_IN_MM = {0:'LCLS', # LCLS cutout picture\n",
    "       1 :1.8 ,\n",
    "       2 :1.6 ,\n",
    "       3 :1.4 ,\n",
    "       4 :1.2 ,\n",
    "       5 :1.1 ,\n",
    "       6 :1.0 ,\n",
    "       7 :0.8 ,\n",
    "       8 :0.6 ,\n",
    "       9 :0.5 ,\n",
    "       10: 0.4 , \n",
    "       11: 0.3 }\n",
    "\n",
    "def get_live_settings(csv, base_settings={}):\n",
    "    \"\"\"\n",
    "    Fetches live settings for all devices in the CSV table, and translates them to simulation inputs\n",
    "     \n",
    "    \"\"\"\n",
    "    df = pd.read_csv(csv)\n",
    "    pv_names = list(df['device_pv_name'])\n",
    "    \n",
    "    df['pv_value'] = epics.caget_many(pv_names)\n",
    "    df.set_index('device_pv_name', inplace=True)\n",
    "    \n",
    "    # Custom for enum\n",
    "    iris_enum = int(df.at['IRIS:LR20:130:CONFG_SEL', 'pv_value'])\n",
    "    df.at['IRIS:LR20:130:CONFG_SEL', 'pv_value'] = IRIS_DIAMETER_FROM_ENUM_IN_MM[iris_enum]\n",
    "    \n",
    "    # Assign impact\n",
    "    df['impact_value'] = df['impact_factor']*df['pv_value'] \n",
    "\n",
    "    # Collect settings\n",
    "    settings = base_settings.copy()\n",
    "    settings.update(dict(zip(df['impact_name'], df['impact_value'])))\n",
    "\n",
    "    # VCC image\n",
    "    settings['distgen:xy_dist:file'] = get_live_distgen_xy_dist(filename=DISTGEN_LASER_FILE)\n",
    "    # We won't need this anymore\n",
    "    settings.pop('distgen:r_dist:sigma_xy:value')\n",
    "    \n",
    "    \n",
    "    return settings, df\n",
    "\n",
    "LIVE_SETTINGS, DF = get_live_settings(CSV, SETTINGS0)\n",
    "DF[['Variable', 'bmad_name', 'pv_value','pv_unit',  'device_min', 'device_max',  'impact_name', 'impact_factor', 'impact_unit',\n",
    "       'impact_description',  'impact_value']]"
   ]
  },
  {
   "cell_type": "code",
   "execution_count": null,
   "metadata": {
    "tags": []
   },
   "outputs": [],
   "source": [
    "#%%time\n",
    "#I0 = run_impact_with_distgen(LIVE_SETTINGS, **CONFIG0, verbose=True )\n",
    "    "
   ]
  },
  {
   "cell_type": "code",
   "execution_count": null,
   "metadata": {},
   "outputs": [],
   "source": [
    "#I0.plot(['sigma_x', 'sigma_y'], y2=['sigma_x'], ylim2=(0,2e-3), figsize=(16,9))"
   ]
  },
  {
   "cell_type": "code",
   "execution_count": null,
   "metadata": {},
   "outputs": [],
   "source": [
    "#I0.initial_particles.plot('x', 'y')"
   ]
  },
  {
   "cell_type": "markdown",
   "metadata": {},
   "source": [
    "# Get live values, run Impact-T, make dashboard"
   ]
  },
  {
   "cell_type": "code",
   "execution_count": null,
   "metadata": {},
   "outputs": [],
   "source": [
    "# Patch this into the function below for the dashboard creation\n",
    "def my_merit(impact_object, itime):\n",
    "    # Collect standard output statistics\n",
    "    merit0 = default_impact_merit(impact_object)\n",
    "    # Make the dashboard from the evaluated object\n",
    "    plot_file = make_dashboard(impact_object, itime=itime, outpath=PLOTDIR)\n",
    "    #print('Dashboard written:', plot_file)\n",
    "    logger.info(f'Dashboard written: {plot_file}')\n",
    "    \n",
    "    # Assign extra info\n",
    "    merit0['plot_file'] = plot_file    \n",
    "    merit0['isotime'] = itime\n",
    "    \n",
    "    # Clear any buffers\n",
    "    plt.close('all')\n",
    "\n",
    "    return merit0"
   ]
  },
  {
   "cell_type": "code",
   "execution_count": null,
   "metadata": {},
   "outputs": [],
   "source": [
    "def run1():\n",
    "    dat = {}\n",
    "    \n",
    "    # Acquire settings\n",
    "    mysettings, df = get_live_settings(CSV, SETTINGS0)\n",
    "    itime = isotime()\n",
    "    dat['isotime'] = itime\n",
    "    \n",
    "    # Record inputs\n",
    "    dat['inputs'] = mysettings\n",
    "    dat['config'] = CONFIG0\n",
    "    dat['pv_mapping_dataframe'] = df.to_dict()\n",
    "    \n",
    "    \n",
    "    logger.info(f'Acquired settings from EPICS at: {itime}')\n",
    "    logger.info(f'Running evaluate_impact_with_distgen...')\n",
    "    \n",
    "    t0 = time()\n",
    "    dat['outputs'] = evaluate_impact_with_distgen(mysettings,\n",
    "                                       merit_f=lambda x: my_merit(x, itime),\n",
    "                                       archive_path=APATH,\n",
    "                                       **CONFIG0 )\n",
    "    logger.info(f'...finished in {(time()-t0)/60:.1f} min')\n",
    "    fname = fname=f'{OUTPUTDIR}/{PREFIX}-{itime}.json'\n",
    "    json.dump(dat, open(fname, 'w'))\n",
    "    #print('Written:', fname)\n",
    "    logger.info(f'Output written: {fname}')\n",
    "    return dat\n",
    "    "
   ]
  },
  {
   "cell_type": "code",
   "execution_count": null,
   "metadata": {},
   "outputs": [],
   "source": [
    "# Here are the results\n",
    "#result = run1()\n",
    "#result.keys()"
   ]
  },
  {
   "cell_type": "code",
   "execution_count": null,
   "metadata": {},
   "outputs": [],
   "source": [
    "# Basic config\n",
    "#result['config']"
   ]
  },
  {
   "cell_type": "code",
   "execution_count": null,
   "metadata": {},
   "outputs": [],
   "source": [
    "# Simulation inputs\n",
    "#result['inputs']"
   ]
  },
  {
   "cell_type": "code",
   "execution_count": null,
   "metadata": {},
   "outputs": [],
   "source": [
    "# Simulation outputs\n",
    "#result['outputs']"
   ]
  },
  {
   "cell_type": "markdown",
   "metadata": {},
   "source": [
    "# Show the plot "
   ]
  },
  {
   "cell_type": "code",
   "execution_count": null,
   "metadata": {},
   "outputs": [],
   "source": [
    "#from IPython.display import Image\n",
    "#Image(filename=result['outputs']['plot_file']) "
   ]
  },
  {
   "cell_type": "markdown",
   "metadata": {},
   "source": [
    "# loop it\n"
   ]
  },
  {
   "cell_type": "code",
   "execution_count": null,
   "metadata": {},
   "outputs": [],
   "source": [
    "while True:\n",
    "    run1()"
   ]
  }
 ],
 "metadata": {
  "kernelspec": {
   "display_name": "Python 3",
   "language": "python",
   "name": "python3"
  },
  "language_info": {
   "codemirror_mode": {
    "name": "ipython",
    "version": 3
   },
   "file_extension": ".py",
   "mimetype": "text/x-python",
   "name": "python",
   "nbconvert_exporter": "python",
   "pygments_lexer": "ipython3",
   "version": "3.8.6"
  }
 },
 "nbformat": 4,
 "nbformat_minor": 4
}
