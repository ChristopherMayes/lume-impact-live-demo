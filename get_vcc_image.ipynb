{
 "cells": [
  {
   "cell_type": "markdown",
   "id": "alpine-performer",
   "metadata": {},
   "source": [
    "# Live VCC image data -> distgen xy_dist file\n",
    "\n",
    "See https://github.com/slaclab/lcls-lattice/blob/master/distgen/models/cu_inj/vcc_image/vcc_image.ipynb for a better explanation"
   ]
  },
  {
   "cell_type": "code",
   "execution_count": 1,
   "id": "expired-copper",
   "metadata": {},
   "outputs": [],
   "source": [
    "import epics\n",
    "import numpy as np\n",
    "import os"
   ]
  },
  {
   "cell_type": "code",
   "execution_count": 2,
   "id": "bibliographic-strength",
   "metadata": {},
   "outputs": [],
   "source": [
    "from skimage.filters import sobel\n",
    "from skimage.util import img_as_ubyte\n",
    "from skimage.segmentation import watershed\n",
    "from skimage.filters.rank import median\n",
    "from skimage.morphology import disk"
   ]
  },
  {
   "cell_type": "code",
   "execution_count": 3,
   "id": "green-sullivan",
   "metadata": {},
   "outputs": [],
   "source": [
    "#BASEPV = 'CAMR:IN20:186' # LCLS\n",
    "#BASEPV = 'CAMR:LT10:900' # FACET-II"
   ]
  },
  {
   "cell_type": "code",
   "execution_count": 4,
   "id": "attempted-pound",
   "metadata": {},
   "outputs": [
    {
     "data": {
      "text/plain": [
       "[array([0, 0, 0, ..., 0, 0, 0], dtype=uint8), 640, 480, 9.0, 'um']"
      ]
     },
     "execution_count": 4,
     "metadata": {},
     "output_type": "execute_result"
    }
   ],
   "source": [
    "LCLS_VCC_PV = {\n",
    "    \n",
    "    'array':  'CAMR:IN20:186:IMAGE',\n",
    "    'size_x': 'CAMR:IN20:186:N_OF_COL',\n",
    "    'size_y': 'CAMR:IN20:186:N_OF_ROW',\n",
    "    'resolution': 'CAMR:IN20:186:RESOLUTION',\n",
    "    'resolution_units': 'CAMR:IN20:186:RESOLUTION.EGU'\n",
    "    \n",
    "    \n",
    "}\n",
    "#epics.caget_many(LCLS_VCC_PV.values())"
   ]
  },
  {
   "cell_type": "code",
   "execution_count": 10,
   "id": "satisfied-stupid",
   "metadata": {},
   "outputs": [
    {
     "data": {
      "text/plain": [
       "[array([0, 0, 1, ..., 0, 0, 0], dtype=int16), 1388, 1038, 6.85, 'um/px']"
      ]
     },
     "execution_count": 10,
     "metadata": {},
     "output_type": "execute_result"
    }
   ],
   "source": [
    "FACET_VCC_PV = {\n",
    "    \n",
    "    'array': 'CAMR:LT10:900:Image:ArrayData',\n",
    "    'size_x': 'CAMR:LT10:900:ArraySizeX_RBV',\n",
    "    'size_y': 'CAMR:LT10:900:ArraySizeY_RBV',\n",
    "    'resolution': 'CAMR:LT10:900:RESOLUTION',\n",
    "    'resolution_units': 'CAMR:LT10:900:RESOLUTION.EGU'\n",
    "    \n",
    "    \n",
    "}\n",
    "#epics.caget_many(FACET_VCC_PV.values())"
   ]
  },
  {
   "cell_type": "code",
   "execution_count": 6,
   "id": "boxed-writing",
   "metadata": {},
   "outputs": [],
   "source": [
    "# Master dict\n",
    "VCC_DEVICE_PV = {\n",
    "    'CAMR:IN20:186':LCLS_VCC_PV,\n",
    "    'CAMR:LT10:900':FACET_VCC_PV \n",
    "    \n",
    "}\n",
    "\n",
    "def get_vcc_data(vcc_device):\n",
    "    # Get actual PVs\n",
    "    d = VCC_DEVICE_PV[vcc_device]\n",
    "    data =  dict(zip(d.keys(), epics.caget_many(d.values())))\n",
    "    # Make consistent units\n",
    "    if data['resolution_units'] == 'um/px':\n",
    "        data['resolution_units'] = 'um'\n",
    "    return data\n",
    "    \n",
    "    \n",
    "#get_vcc_data('CAMR:LT10:900')    \n"
   ]
  },
  {
   "cell_type": "code",
   "execution_count": 7,
   "id": "fatal-strike",
   "metadata": {},
   "outputs": [],
   "source": [
    "def isolate_image(img):\n",
    "    \"\"\"\n",
    "    Uses a masking technique to isolate the VCC image\n",
    "    \"\"\"\n",
    "    img=img.copy()\n",
    "    \n",
    "    # Filter out hot pixels to use aas a mask\n",
    "    # https://scikit-image.org/docs/0.12.x/auto_examples/xx_applications/plot_rank_filters.html\n",
    "    img2 = median(img_as_ubyte(img), disk(1))\n",
    "    \n",
    "    elevation_map = sobel(img2)\n",
    "    markers = np.zeros_like(img2)\n",
    "    \n",
    "    # TODO: tweak these numbers\n",
    "    markers[img2 < .1] = 1\n",
    "    markers[img2 > .2] = 2\n",
    "\n",
    "    # Wateshed\n",
    "    segmentation = watershed(elevation_map, markers)\n",
    "    \n",
    "    # Set to zero in original image\n",
    "    img[np.where(segmentation != 2)]  = 0 \n",
    "    \n",
    "    # \n",
    "    ixnonzero0 = np.nonzero(np.sum(img2, axis=1))[0]\n",
    "    ixnonzero1 = np.nonzero(np.sum(img2, axis=0))[0]\n",
    "    \n",
    "    i0, i1, j0, j1 = ixnonzero0[0], ixnonzero0[-1], ixnonzero1[0], ixnonzero1[-1]\n",
    "    cutimg = img[i0:i1,j0:j1]\n",
    "    \n",
    "    return cutimg"
   ]
  },
  {
   "cell_type": "code",
   "execution_count": 8,
   "id": "dressed-state",
   "metadata": {},
   "outputs": [],
   "source": [
    "def write_distgen_xy_dist(filename, image, resolution, resolution_units='m'):\n",
    "    \"\"\"\n",
    "    Writes image data in distgen's xy_dist format\n",
    "    \n",
    "    Returns the absolute path to the file written\n",
    "    \n",
    "    \"\"\"\n",
    "    \n",
    "    # Get width of each dimension\n",
    "    widths = resolution * np.array(image.shape)\n",
    "    \n",
    "    # Form header\n",
    "    header = f\"\"\"x {widths[1]} {widths[1]/2} [{resolution_units}]\n",
    "y {widths[0]} {widths[0]/2}  [{resolution_units}]\"\"\"\n",
    "    \n",
    "    # Save with the correct orientation\n",
    "    np.savetxt(filename, np.flip(image, axis=0), header=header, comments='')\n",
    "    \n",
    "    return os.path.abspath(filename)"
   ]
  },
  {
   "cell_type": "code",
   "execution_count": 9,
   "id": "german-kitchen",
   "metadata": {},
   "outputs": [],
   "source": [
    "def get_live_distgen_xy_dist(filename='test.txt', vcc_device='CAMR:IN20:186'):\n",
    "    \n",
    "    # Get data\n",
    "    dat = get_vcc_data(vcc_device)\n",
    "    \n",
    "    arr = dat['array']\n",
    "    image = arr.reshape(dat['size_y'], dat['size_x'])\n",
    "        \n",
    "    cutimg = isolate_image(image)\n",
    "    \n",
    "    #return image, cutimg\n",
    "    \n",
    "    fout = write_distgen_xy_dist(filename, cutimg, dat['resolution'], resolution_units=dat['resolution_units'])\n",
    "    \n",
    "    return fout\n",
    "    \n",
    "    \n",
    "#i1, i2 = get_live_distgen_xy_dist(vcc_device='CAMR:IN20:186')\n",
    "#plt.imshow(i2)"
   ]
  },
  {
   "cell_type": "code",
   "execution_count": null,
   "id": "nuclear-departure",
   "metadata": {},
   "outputs": [],
   "source": []
  }
 ],
 "metadata": {
  "kernelspec": {
   "display_name": "Python 3",
   "language": "python",
   "name": "python3"
  },
  "language_info": {
   "codemirror_mode": {
    "name": "ipython",
    "version": 3
   },
   "file_extension": ".py",
   "mimetype": "text/x-python",
   "name": "python",
   "nbconvert_exporter": "python",
   "pygments_lexer": "ipython3",
   "version": "3.8.6"
  }
 },
 "nbformat": 4,
 "nbformat_minor": 5
}
