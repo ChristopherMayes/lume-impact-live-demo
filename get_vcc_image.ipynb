{
 "cells": [
  {
   "cell_type": "markdown",
   "id": "buried-education",
   "metadata": {},
   "source": [
    "# Live VCC image data -> distgen xy_dist file\n",
    "\n",
    "See https://github.com/slaclab/lcls-lattice/blob/master/distgen/models/cu_inj/vcc_image/vcc_image.ipynb for a better explanation"
   ]
  },
  {
   "cell_type": "code",
   "execution_count": 1,
   "id": "referenced-saying",
   "metadata": {},
   "outputs": [],
   "source": [
    "import epics\n",
    "import numpy as np\n",
    "import os"
   ]
  },
  {
   "cell_type": "code",
   "execution_count": 2,
   "id": "valid-hamburg",
   "metadata": {},
   "outputs": [
    {
     "data": {
      "text/plain": [
       "['CAMR:IN20:186:IMAGE',\n",
       " 'CAMR:IN20:186:N_OF_COL',\n",
       " 'CAMR:IN20:186:N_OF_ROW',\n",
       " 'CAMR:IN20:186:RESOLUTION',\n",
       " 'CAMR:IN20:186:RESOLUTION.EGU']"
      ]
     },
     "execution_count": 2,
     "metadata": {},
     "output_type": "execute_result"
    }
   ],
   "source": [
    "BASEPV = 'CAMR:IN20:186'\n",
    "\n",
    "SUFFIXES = {\n",
    "    ':IMAGE': 'image array',\n",
    "    ':N_OF_COL': 'start X',\n",
    "    ':N_OF_ROW': 'Number of X pixels',\n",
    "    ':RESOLUTION': 'size per pixel',\n",
    "    ':RESOLUTION.EGU': 'units of size per pixel'\n",
    "}\n",
    "PVLIST = [BASEPV+s for s in SUFFIXES]\n",
    "PVLIST"
   ]
  },
  {
   "cell_type": "code",
   "execution_count": 3,
   "id": "rapid-brighton",
   "metadata": {},
   "outputs": [],
   "source": [
    "from skimage.filters import sobel\n",
    "from skimage.segmentation import watershed"
   ]
  },
  {
   "cell_type": "code",
   "execution_count": 4,
   "id": "popular-scheme",
   "metadata": {},
   "outputs": [],
   "source": [
    "def isolate_image(img):\n",
    "    \"\"\"\n",
    "    Uses a masking technique to isolate the VCC image\n",
    "    \"\"\"\n",
    "    img=img.copy()\n",
    "    elevation_map = sobel(img)\n",
    "    markers = np.zeros_like(img)\n",
    "    \n",
    "    # TODO: tweak these numbers\n",
    "    markers[img < .1] = 1\n",
    "    markers[img > .2] = 2\n",
    "\n",
    "    # Wateshed\n",
    "    segmentation = watershed(elevation_map, markers)\n",
    "    \n",
    "    img[np.where(segmentation != 2)]  = 0 \n",
    "    \n",
    "    # \n",
    "    ixnonzero0 = np.nonzero(np.sum(img, axis=1))[0]\n",
    "    ixnonzero1 = np.nonzero(np.sum(img, axis=0))[0]\n",
    "    \n",
    "    i0, i1, j0, j1 = ixnonzero0[0], ixnonzero0[-1], ixnonzero1[0], ixnonzero1[-1]\n",
    "    cutimg = img[i0:i1,j0:j1]\n",
    "    \n",
    "    return cutimg"
   ]
  },
  {
   "cell_type": "code",
   "execution_count": 5,
   "id": "agricultural-ordering",
   "metadata": {},
   "outputs": [],
   "source": [
    "def write_distgen_xy_dist(filename, image, resolution, resolution_units='m'):\n",
    "    \"\"\"\n",
    "    Writes image data in distgen's xy_dist format\n",
    "    \n",
    "    Returns the absolute path to the file written\n",
    "    \n",
    "    \"\"\"\n",
    "    \n",
    "    # Get width of each dimension\n",
    "    widths = resolution * np.array(image.shape)\n",
    "    \n",
    "    # Form header\n",
    "    header = f\"\"\"x {widths[1]} {widths[1]/2} [{resolution_units}]\n",
    "y {widths[0]} {widths[0]/2}  [{resolution_units}]\"\"\"\n",
    "    \n",
    "    # Save with the correct orientation\n",
    "    np.savetxt(filename, np.flip(image, axis=0), header=header, comments='')\n",
    "    \n",
    "    return os.path.abspath(filename)"
   ]
  },
  {
   "cell_type": "code",
   "execution_count": 9,
   "id": "minimal-aluminum",
   "metadata": {},
   "outputs": [],
   "source": [
    "def get_live_distgen_xy_dist(filename='test.txt'):\n",
    "    \n",
    "    # Get\n",
    "    dat = {k:v for k, v in zip(PVLIST, epics.caget_many(PVLIST))}\n",
    "    \n",
    "    arr = dat[BASEPV+':IMAGE']\n",
    "    ncol = dat[BASEPV+':N_OF_COL']\n",
    "    nrow = dat[BASEPV+':N_OF_ROW']\n",
    "    resolution = dat[BASEPV+':RESOLUTION']\n",
    "    resolution_units = dat[BASEPV+':RESOLUTION.EGU']\n",
    "    image = arr.reshape(nrow, ncol)\n",
    "        \n",
    "    cutimg = isolate_image(image)\n",
    "    \n",
    "    fout = write_distgen_xy_dist(filename, cutimg, resolution, resolution_units=resolution_units)\n",
    "    \n",
    "    return fout\n",
    "    \n",
    "    \n",
    "#get_live_distgen_xy_dist()    "
   ]
  }
 ],
 "metadata": {
  "kernelspec": {
   "display_name": "Python 3",
   "language": "python",
   "name": "python3"
  },
  "language_info": {
   "codemirror_mode": {
    "name": "ipython",
    "version": 3
   },
   "file_extension": ".py",
   "mimetype": "text/x-python",
   "name": "python",
   "nbconvert_exporter": "python",
   "pygments_lexer": "ipython3",
   "version": "3.8.6"
  }
 },
 "nbformat": 4,
 "nbformat_minor": 5
}
