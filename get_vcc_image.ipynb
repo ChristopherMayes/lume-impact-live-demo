{
 "cells": [
  {
   "cell_type": "markdown",
   "id": "2da583b5",
   "metadata": {},
   "source": [
    "# Live VCC image data -> distgen xy_dist file\n",
    "\n",
    "See https://github.com/slaclab/lcls-lattice/blob/master/distgen/models/cu_inj/vcc_image/vcc_image.ipynb for a better explanation"
   ]
  },
  {
   "cell_type": "code",
   "execution_count": null,
   "id": "99226047",
   "metadata": {},
   "outputs": [],
   "source": [
    "import epics\n",
    "import numpy as np\n",
    "import os\n",
    "\n",
    "import h5py\n",
    "\n",
    "from lcls_live.tools import isotime\n",
    "\n",
    "import matplotlib.pyplot as plt\n",
    "\n",
    "import logging\n",
    "logger = logging.getLogger(__name__)"
   ]
  },
  {
   "cell_type": "code",
   "execution_count": null,
   "id": "bb7b7609-872b-48af-97b7-5e387aba8ccf",
   "metadata": {},
   "outputs": [],
   "source": [
    "# Nicer plotting\n",
    "import matplotlib.pyplot as plt\n",
    "%config InlineBackend.figure_format = 'retina'"
   ]
  },
  {
   "cell_type": "markdown",
   "id": "bcb6f4c8-ff02-479a-ba1d-f7f29fbcf7bc",
   "metadata": {},
   "source": [
    "# EPICS tools"
   ]
  },
  {
   "cell_type": "code",
   "execution_count": null,
   "id": "d95f9398-baf1-40a1-b474-7b7324c99487",
   "metadata": {},
   "outputs": [],
   "source": [
    "\n",
    "def caget_dict(names):\n",
    "    return dict(zip(names, epics.caget_many(names)))\n",
    "\n",
    "def save_pvdata(filename, pvdata, attrs=None):\n",
    "    \n",
    "    logger.info(f\"Writing {filename}\")\n",
    "    \n",
    "    with h5py.File(filename, 'w') as h5:\n",
    "        if attrs:\n",
    "            for k, v in attrs.items():\n",
    "                h5.attrs[k] = v\n",
    "        for k, v in pvdata.items():\n",
    "            h5[k] = v\n",
    "            \n"
   ]
  },
  {
   "cell_type": "markdown",
   "id": "9931131c-d52c-4486-93d0-e30c081706b4",
   "metadata": {},
   "source": [
    "# Image tools"
   ]
  },
  {
   "cell_type": "code",
   "execution_count": null,
   "id": "f63d3e3c",
   "metadata": {},
   "outputs": [],
   "source": [
    "from skimage.filters import sobel\n",
    "from skimage.util import img_as_ubyte\n",
    "from skimage.segmentation import watershed\n",
    "from skimage.filters.rank import median\n",
    "from skimage.morphology import disk\n",
    "\n",
    "def isolate_image(img, fclip=0.08):\n",
    "    \"\"\"\n",
    "    Uses a masking technique to isolate the VCC image\n",
    "    \"\"\"\n",
    "    img=img.copy()\n",
    "    \n",
    "    # Clip lowest fclip fraction\n",
    "    img[img < np.max(img)* fclip] = 0\n",
    "    \n",
    "    \n",
    "    # Filter out hot pixels to use aas a mask\n",
    "    # https://scikit-image.org/docs/0.12.x/auto_examples/xx_applications/plot_rank_filters.html\n",
    "    img2 = median(img_as_ubyte(img), disk(2))\n",
    "    \n",
    "    elevation_map = sobel(img2)\n",
    "    markers = np.zeros_like(img2)\n",
    "    \n",
    "    # TODO: tweak these numbers\n",
    "    markers[img2 < .1] = 1\n",
    "    markers[img2 > .2] = 2\n",
    "\n",
    "    # Wateshed\n",
    "    segmentation = watershed(elevation_map, markers)\n",
    "    \n",
    "    # Set to zero in original image\n",
    "    img[np.where(segmentation != 2)]  = 0 \n",
    "    \n",
    "    # \n",
    "    ixnonzero0 = np.nonzero(np.sum(img2, axis=1))[0]\n",
    "    ixnonzero1 = np.nonzero(np.sum(img2, axis=0))[0]\n",
    "    \n",
    "    i0, i1, j0, j1 = ixnonzero0[0], ixnonzero0[-1], ixnonzero1[0], ixnonzero1[-1]\n",
    "    cutimg = img[i0:i1,j0:j1]\n",
    "    \n",
    "    return cutimg"
   ]
  },
  {
   "cell_type": "markdown",
   "id": "dd3a7655-dda4-4df8-892b-62519e52339a",
   "metadata": {},
   "source": [
    "# PVs"
   ]
  },
  {
   "cell_type": "code",
   "execution_count": null,
   "id": "b9bc92db",
   "metadata": {},
   "outputs": [],
   "source": [
    "LCLS_VCC_PV = {\n",
    "    \n",
    "    'array':  'CAMR:IN20:186:IMAGE',\n",
    "    'size_x': 'CAMR:IN20:186:N_OF_COL',\n",
    "    'size_y': 'CAMR:IN20:186:N_OF_ROW',\n",
    "    'resolution': 'CAMR:IN20:186:RESOLUTION',\n",
    "    'resolution_units': 'CAMR:IN20:186:RESOLUTION.EGU'\n",
    "    \n",
    "    \n",
    "}\n",
    "#epics.caget_many(LCLS_VCC_PV.values())"
   ]
  },
  {
   "cell_type": "code",
   "execution_count": null,
   "id": "44467677",
   "metadata": {},
   "outputs": [],
   "source": [
    "LCLS2_VCC_PV = {\n",
    "    \n",
    "    'array':  'CAMR:LGUN:950:Image:ArrayData',\n",
    "    'size_x': 'CAMR:LGUN:950:Image:ArraySize0_RBV',\n",
    "    'size_y': 'CAMR:LGUN:950:Image:ArraySize1_RBV',\n",
    "    'resolution': 'CAMR:LGUN:950:RESOLUTION',\n",
    "    'resolution_units': 'CAMR:LGUN:950:RESOLUTION.EGU'\n",
    "}\n",
    "#epics.caget_many(LCLS_VCC_PV.values())"
   ]
  },
  {
   "cell_type": "code",
   "execution_count": null,
   "id": "86cad915",
   "metadata": {},
   "outputs": [],
   "source": [
    "FACET_VCC_PV = {\n",
    "    \n",
    "    'array': 'CAMR:LT10:900:Image:ArrayData',\n",
    "    'size_x': 'CAMR:LT10:900:ArraySizeX_RBV',\n",
    "    'size_y': 'CAMR:LT10:900:ArraySizeY_RBV',\n",
    "    'resolution': 'CAMR:LT10:900:RESOLUTION',\n",
    "    'resolution_units': 'CAMR:LT10:900:RESOLUTION.EGU'\n",
    "    \n",
    "    \n",
    "}\n",
    "\n",
    "# Master dict\n",
    "VCC_DEVICE_PV = {\n",
    "    'CAMR:LGUN:950':LCLS2_VCC_PV,\n",
    "    'CAMR:IN20:186':LCLS_VCC_PV,\n",
    "    'CAMR:LT10:900':FACET_VCC_PV \n",
    "}\n",
    "\n",
    "#epics.caget_many(FACET_VCC_PV.values())"
   ]
  },
  {
   "cell_type": "markdown",
   "id": "17363c56-457a-4e01-89cf-2455a1d50f1e",
   "metadata": {},
   "source": [
    "# Get"
   ]
  },
  {
   "cell_type": "code",
   "execution_count": null,
   "id": "874a2b52-be5b-4d51-88ac-d614b37e7ead",
   "metadata": {},
   "outputs": [],
   "source": [
    "def get_epics_vcc_data(epics, vcc_device, wait_for_good=True, good_std=4):\n",
    "    \"\"\"\n",
    "     epics,\n",
    "    wait_for_good: bool, default True\n",
    "        will repeat epics.caget_many until the array data\n",
    "        seems like an image\n",
    "    \"\"\"\n",
    "    # Get actual PVs\n",
    "    d = VCC_DEVICE_PV[vcc_device].copy()\n",
    "    \n",
    "    trials = 0\n",
    "    \n",
    "    if wait_for_good:  \n",
    "        array_pvname = d.pop('array')\n",
    "\n",
    "        found = False\n",
    "        m = epics.PV(array_pvname)\n",
    "        ii = 0\n",
    "        while not found:\n",
    "            ii += 1\n",
    "            if ii % 10 == 0:\n",
    "                print(f\"Waited {ii} times for good {array_pvname}\")\n",
    "            trials += 1\n",
    "            a = m.get()\n",
    "            if a is None:\n",
    "                continue\n",
    "            if a.std() > good_std:\n",
    "                found = True\n",
    "                # Get regular pvs\n",
    "                pvdata = caget_dict(d.values())                \n",
    "                isotime_found = isotime()\n",
    "                pvdata[array_pvname] = a\n",
    "    else:\n",
    "        pvdata = caget_dict(d.values())\n",
    "        isotime_found = isotime()\n",
    "        \n",
    "    #out = {'pvdata': pvdata, 'isotime': isotime_found}\n",
    "\n",
    "    return pvdata, isotime_found\n",
    "\n",
    "#res = get_epics_vcc_data(epics, 'CAMR:LGUN:950', wait_for_good=True)\n",
    "#res"
   ]
  },
  {
   "cell_type": "code",
   "execution_count": null,
   "id": "a601c4f6-32f1-4659-a749-997ded11e5da",
   "metadata": {},
   "outputs": [],
   "source": [
    "def vcc_image_data_from_pvdata(pvdata, vcc_device):\n",
    "    \"\"\"\n",
    "    Process raw pvdata dict into image data\n",
    "    \"\"\"\n",
    "    d = VCC_DEVICE_PV[vcc_device]\n",
    "    \n",
    "    image_data = {}\n",
    "    for k, pvname in d.items():\n",
    "        image_data[k] = pvdata[pvname]\n",
    "        \n",
    "    # Make consistent units\n",
    "    if image_data['resolution_units'] == 'um/px':\n",
    "        image_data['resolution_units'] = 'um'  \n",
    "        \n",
    "    a = image_data.pop('array')\n",
    "    n = len(a)\n",
    "    print(n)\n",
    "    \n",
    "    # Try to guess shape, because PVs are sometimes bad (None)\n",
    "    if n == 1040 *  1392:\n",
    "        shape = (1040 , 1392)\n",
    "    elif n == 1024 * 1024:\n",
    "        shape = (1024 , 1024)        \n",
    "    else:\n",
    "        shape = (image_data['size_y'], image_data['size_x'])\n",
    "    \n",
    "    \n",
    "    \n",
    "    image_data['image'] = a.reshape(shape)           \n",
    "        \n",
    "    return image_data\n",
    "\n",
    "\n",
    "#vcc_image_data_from_pvdata(res[0],     'CAMR:LGUN:950')"
   ]
  },
  {
   "cell_type": "code",
   "execution_count": null,
   "id": "968ad643-3645-4b73-ae6b-bcec6c104a28",
   "metadata": {},
   "outputs": [],
   "source": [
    "%%time\n",
    "def get_vcc_data(epics, vcc_device, pvdata=None, wait_for_good=True, good_std=4, save_path=None):\n",
    "    \"\"\"\n",
    "    \n",
    "    wait_for_good: bool, default True\n",
    "        will repeat epics.caget_many until the array data\n",
    "        seems like an image\n",
    "    \"\"\"\n",
    "    \n",
    "    pvdata, isotime_found = get_epics_vcc_data(epics, vcc_device, wait_for_good=wait_for_good, good_std=good_std) \n",
    "    \n",
    "    if save_path:\n",
    "        assert os.path.exists(save_path)\n",
    "        fname = os.path.join(save_path,  f\"pvdata_{vcc_device}_{isotime_found}.h5\")\n",
    "        save_pvdata(fname, pvdata, attrs={'isotime':isotime_found})\n",
    "    \n",
    "    image_data = vcc_image_data_from_pvdata(pvdata, vcc_device)\n",
    "    \n",
    "    return image_data\n",
    "\n",
    "#out = get_vcc_data(epics, 'CAMR:LGUN:950', save_path='vcc_archive')\n",
    "#plt.imshow(out['image'])"
   ]
  },
  {
   "cell_type": "code",
   "execution_count": null,
   "id": "f39c9274",
   "metadata": {},
   "outputs": [],
   "source": [
    "def write_distgen_xy_dist(filename, image, resolution, resolution_units='m'):\n",
    "    \"\"\"\n",
    "    Writes image data in distgen's xy_dist format\n",
    "    \n",
    "    Returns the absolute path to the file written\n",
    "    \n",
    "    \"\"\"\n",
    "    \n",
    "    # Get width of each dimension\n",
    "    widths = resolution * np.array(image.shape)\n",
    "    \n",
    "    center_y = 0\n",
    "    center_x = 0\n",
    "    \n",
    "    # Form header\n",
    "    header = f\"\"\"x {widths[1]} {center_x} [{resolution_units}]\n",
    "y {widths[0]} {center_y}  [{resolution_units}]\"\"\"\n",
    "    \n",
    "    # Save with the correct orientation\n",
    "    np.savetxt(filename, np.flip(image, axis=0), header=header, comments='')\n",
    "    \n",
    "    return os.path.abspath(filename)"
   ]
  },
  {
   "cell_type": "code",
   "execution_count": null,
   "id": "394b7112",
   "metadata": {},
   "outputs": [],
   "source": [
    "def get_live_distgen_xy_dist(filename='test.txt', vcc_device='CAMR:IN20:186', pvdata=None, fclip=0.08):\n",
    "    \n",
    "    # Get data\n",
    "    image_data = get_vcc_data(epics, vcc_device, pvdata)\n",
    "    image = image_data['image']\n",
    "    \n",
    "    cutimg = isolate_image(image, fclip=fclip)\n",
    "    \n",
    "    assert cutimg.ptp() > 0\n",
    "        \n",
    "    fout = write_distgen_xy_dist(filename, cutimg,\n",
    "                                 image_data['resolution'],\n",
    "                                 resolution_units=image_data['resolution_units'])\n",
    "    \n",
    "    return fout, image, cutimg\n",
    "    \n",
    "# import matplotlib.pyplot as plt\n",
    "# %config InlineBackend.figure_format = 'retina'\n",
    "# fout, i1, i2 = get_live_distgen_xy_dist(vcc_device='CAMR:LGUN:950', fclip=0.08)\n",
    "# # #fout, i1, i2 = get_live_distgen_xy_dist(vcc_device='CAMR:LT10:900', fclip=0.08)\n",
    "# # \n",
    "# plt.imshow(i2)\n",
    "# fout\n",
    "# # "
   ]
  },
  {
   "cell_type": "code",
   "execution_count": null,
   "id": "60ddbf27-5899-4764-a001-2324dc2e252e",
   "metadata": {},
   "outputs": [],
   "source": [
    "#!cp test.txt $LCLS_LATTICE/distgen/models/sc_inj/vcc_image/laser_image.txt"
   ]
  },
  {
   "cell_type": "code",
   "execution_count": null,
   "id": "a092d8a3",
   "metadata": {},
   "outputs": [],
   "source": [
    "# #gfile = os.path.expandvars('$FACET2_LATTICE/distgen/models/f2e_inj/vcc_image/distgen.yaml')\n",
    "# gfile = os.path.expandvars('$LCLS_LATTICE/distgen/models/cu_inj/vcc_image/distgen.yaml')\n",
    "# from distgen import Generator\n",
    "# \n",
    "# G = Generator(gfile)\n",
    "# G['xy_dist:file'] = fout\n",
    "# G['n_particle'] = 10000\n",
    "# G.run()\n",
    "# G.particles.plot('x', 'y', figsize=(5,5))"
   ]
  },
  {
   "cell_type": "code",
   "execution_count": null,
   "id": "767128dc",
   "metadata": {},
   "outputs": [],
   "source": [
    "# PVDATA = dict(zip(FACET_VCC_PV.values(), epics.caget_many(FACET_VCC_PV.values())))\n",
    "# PVDATA"
   ]
  },
  {
   "cell_type": "code",
   "execution_count": null,
   "id": "4bee909d",
   "metadata": {},
   "outputs": [],
   "source": [
    "# fout, i1, i2 = get_live_distgen_xy_dist(vcc_device='CAMR:LT10:900', pvdata=PVDATA)\n",
    "# plt.imshow(i2)"
   ]
  }
 ],
 "metadata": {
  "kernelspec": {
   "display_name": "Python 3 (ipykernel)",
   "language": "python",
   "name": "python3"
  },
  "language_info": {
   "codemirror_mode": {
    "name": "ipython",
    "version": 3
   },
   "file_extension": ".py",
   "mimetype": "text/x-python",
   "name": "python",
   "nbconvert_exporter": "python",
   "pygments_lexer": "ipython3",
   "version": "3.8.13"
  },
  "vscode": {
   "interpreter": {
    "hash": "49afe547d719b42ec70d726a21e7260db8a657a06c818380a17aa9a560f5b657"
   }
  }
 },
 "nbformat": 4,
 "nbformat_minor": 5
}
